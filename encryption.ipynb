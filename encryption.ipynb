{
 "cells": [
  {
   "cell_type": "markdown",
   "metadata": {},
   "source": [
    "# Conversor Image to Bytes"
   ]
  },
  {
   "cell_type": "code",
   "execution_count": 1,
   "metadata": {},
   "outputs": [],
   "source": [
    "from PIL import Image\n",
    "import numpy as np\n",
    "\n",
    "# Cargar la imagen y convertirla a RGBA\n",
    "imagen = Image.open('tux.bmp').convert('RGBA')\n",
    "\n",
    "# Convertir la imagen a un arreglo NumPy y redimensionar\n",
    "datos = np.array(imagen)\n",
    "datos = datos.reshape((405, 480, 4))"
   ]
  },
  {
   "cell_type": "markdown",
   "metadata": {},
   "source": [
    "Cifrado de los bytes de la imagen utilizando AES 128 en modo ECB"
   ]
  },
  {
   "cell_type": "code",
   "execution_count": 4,
   "metadata": {},
   "outputs": [],
   "source": [
    "from Crypto.Cipher import AES\n",
    "from Crypto.Util.Padding import pad\n",
    "import os\n",
    "\n",
    "# Convertir los datos a bytes\n",
    "datos_bytes = datos.tobytes()\n",
    "\n",
    "# Generar una clave de 128 bits (16 bytes)\n",
    "clave = os.urandom(16)\n",
    "\n",
    "# Crear el objeto de cifrado AES en modo ECB\n",
    "cifrador = AES.new(clave, AES.MODE_ECB)\n",
    "\n",
    "# Aplicar padding y cifrar los datos\n",
    "datos_cifrados = cifrador.encrypt(pad(datos_bytes, AES.block_size))\n"
   ]
  },
  {
   "cell_type": "code",
   "execution_count": 8,
   "metadata": {},
   "outputs": [],
   "source": [
    "# Convertir los datos cifrados a un arreglo NumPy\n",
    "datos_cifrados = np.frombuffer(datos_cifrados, dtype=np.uint8)\n",
    "\n",
    "# Asegurarse de que el tamaño coincida con el original\n",
    "datos_cifrados = datos_cifrados[:(405*480*4)]\n",
    "\n",
    "# Redimensionar el arreglo\n",
    "datos_cifrados = datos_cifrados.reshape((405, 480, 4))\n",
    "\n",
    "# Crear una nueva imagen a partir de los datos cifrados\n",
    "imagen_cifrada = Image.fromarray(datos_cifrados, 'RGBA')\n",
    "imagen_cifrada.save('tux_ecb.png')\n"
   ]
  },
  {
   "cell_type": "markdown",
   "metadata": {},
   "source": [
    "Repetición del procedimiento utilizando el modo CBC"
   ]
  },
  {
   "cell_type": "code",
   "execution_count": 6,
   "metadata": {},
   "outputs": [],
   "source": [
    "from Crypto.Random import get_random_bytes\n",
    "\n",
    "# Generar un vector de inicialización de 16 bytes\n",
    "iv = get_random_bytes(16)\n",
    "\n",
    "# Crear el objeto de cifrado AES en modo CBC\n",
    "cifrador_cbc = AES.new(clave, AES.MODE_CBC, iv)\n",
    "\n",
    "# Aplicar padding y cifrar los datos\n",
    "datos_cifrados_cbc = cifrador_cbc.encrypt(pad(datos_bytes, AES.block_size))"
   ]
  },
  {
   "cell_type": "code",
   "execution_count": 7,
   "metadata": {},
   "outputs": [],
   "source": [
    "# Convertir los datos cifrados a un arreglo NumPy\n",
    "datos_cifrados_cbc = np.frombuffer(datos_cifrados_cbc, dtype=np.uint8)\n",
    "\n",
    "# Asegurarse de que el tamaño coincida con el original\n",
    "datos_cifrados_cbc = datos_cifrados_cbc[:(405*480*4)]\n",
    "\n",
    "# Redimensionar el arreglo\n",
    "datos_cifrados_cbc = datos_cifrados_cbc.reshape((405, 480, 4))\n",
    "\n",
    "# Crear una nueva imagen a partir de los datos cifrados\n",
    "imagen_cifrada_cbc = Image.fromarray(datos_cifrados_cbc, 'RGBA')\n",
    "imagen_cifrada_cbc.save('tux_cbc.png')"
   ]
  }
 ],
 "metadata": {
  "kernelspec": {
   "display_name": "env",
   "language": "python",
   "name": "python3"
  },
  "language_info": {
   "codemirror_mode": {
    "name": "ipython",
    "version": 3
   },
   "file_extension": ".py",
   "mimetype": "text/x-python",
   "name": "python",
   "nbconvert_exporter": "python",
   "pygments_lexer": "ipython3",
   "version": "3.9.2rc1"
  }
 },
 "nbformat": 4,
 "nbformat_minor": 2
}
